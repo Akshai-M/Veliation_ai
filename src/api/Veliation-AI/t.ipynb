{
 "cells": [
  {
   "cell_type": "code",
   "execution_count": 17,
   "metadata": {},
   "outputs": [
    {
     "name": "stdout",
     "output_type": "stream",
     "text": [
      "✅ Tables and their columns:\n",
      "\n",
      "📌 Table: total_revenue_per_branch\n",
      "   ➜ Column: branch (text)\n",
      "   ➜ Column: total_revenue (double precision)\n",
      "--------------------------------------------------\n"
     ]
    }
   ],
   "source": [
    "import psycopg2\n",
    "\n",
    "def list_tables_and_columns(conn):\n",
    "    \"\"\"Fetches and prints all tables and their associated columns in the database.\"\"\"\n",
    "    cur = conn.cursor()\n",
    "\n",
    "    # ✅ Step 1: Get all table names\n",
    "    cur.execute(\"\"\"\n",
    "        SELECT table_name \n",
    "        FROM information_schema.tables \n",
    "        WHERE table_schema = 'public'\n",
    "        ORDER BY table_name;\n",
    "    \"\"\")\n",
    "    tables = cur.fetchall()\n",
    "\n",
    "    if not tables:\n",
    "        print(\"❌ No tables found in the database.\")\n",
    "        return\n",
    "\n",
    "    print(\"✅ Tables and their columns:\\n\")\n",
    "\n",
    "    # ✅ Step 2: Iterate through tables and fetch column details\n",
    "    for table in tables:\n",
    "        table_name = table[0]\n",
    "        print(f\"📌 Table: {table_name}\")\n",
    "        # cur.execute(f\"\"\"DROP TABLE IF EXISTS {table_name};\"\"\")\n",
    "        cur.execute(f\"\"\"\n",
    "            SELECT column_name, data_type\n",
    "            FROM information_schema.columns\n",
    "            WHERE table_name = '{table_name}'\n",
    "            ORDER BY ordinal_position;\n",
    "        \"\"\")\n",
    "        columns = cur.fetchall()\n",
    "\n",
    "        for column in columns:\n",
    "            print(f\"   ➜ Column: {column[0]} ({column[1]})\")\n",
    "        print(\"-\" * 50)\n",
    "\n",
    "    cur.close()\n",
    "db_host = 'database-1.c3ww44kcayjx.ap-south-1.rds.amazonaws.com'\n",
    "db_name = 'database-1'\n",
    "db_user = 'postgres'\n",
    "db_password = 'datascience'\n",
    "# ✅ Usage Example\n",
    "conn = psycopg2.connect(\n",
    "    host=db_host,\n",
    "    user=db_user,\n",
    "    password=db_password\n",
    ")\n",
    "\n",
    "list_tables_and_columns(conn)\n",
    "\n",
    "# ✅ Close connection\n",
    "# conn.close()\n"
   ]
  },
  {
   "cell_type": "code",
   "execution_count": 18,
   "metadata": {},
   "outputs": [
    {
     "name": "stdout",
     "output_type": "stream",
     "text": [
      "✅ Fetching all rows from each table:\n",
      "\n",
      "📌 Table: total_revenue_per_branch\n",
      "   ➜ Columns: ['branch', 'total_revenue']\n",
      "   ➜ ('C', 110568.70649999994)\n",
      "   ➜ ('A', 106200.3705000001)\n",
      "   ➜ ('B', 106197.67199999996)\n",
      "--------------------------------------------------\n"
     ]
    }
   ],
   "source": [
    "import psycopg2\n",
    "\n",
    "def show_all_rows(conn):\n",
    "    \"\"\"Fetches and prints all rows from every table in the database.\"\"\"\n",
    "    cur = conn.cursor()\n",
    "\n",
    "    # ✅ Step 1: Get all table names\n",
    "    cur.execute(\"\"\"\n",
    "        SELECT table_name \n",
    "        FROM information_schema.tables \n",
    "        WHERE table_schema = 'public'\n",
    "        ORDER BY table_name;\n",
    "    \"\"\")\n",
    "    tables = cur.fetchall()\n",
    "\n",
    "    if not tables:\n",
    "        print(\"❌ No tables found in the database.\")\n",
    "        return\n",
    "\n",
    "    print(\"✅ Fetching all rows from each table:\\n\")\n",
    "\n",
    "    # ✅ Step 2: Iterate through tables and fetch all rows\n",
    "    for table in tables:\n",
    "        table_name = table[0]\n",
    "        print(f\"📌 Table: {table_name}\")\n",
    "\n",
    "        cur.execute(f\"SELECT * FROM {table_name} LIMIT 10;\")  # Fetch first 10 rows (adjust as needed)\n",
    "        rows = cur.fetchall()\n",
    "\n",
    "        if not rows:\n",
    "            print(\"   ❌ No data found in this table.\\n\")\n",
    "        else:\n",
    "            # ✅ Step 3: Print column names\n",
    "            column_names = [desc[0] for desc in cur.description]\n",
    "            print(f\"   ➜ Columns: {column_names}\")\n",
    "\n",
    "            # ✅ Step 4: Print row data\n",
    "            for row in rows:\n",
    "                print(f\"   ➜ {row}\")\n",
    "\n",
    "        print(\"-\" * 50)\n",
    "\n",
    "    cur.close()\n",
    "\n",
    "# # ✅ Usage Example\n",
    "# conn = psycopg2.connect(\n",
    "#     host=\"your-db-host\",\n",
    "#     database=\"your-db-name\",\n",
    "#     user=\"your-username\",\n",
    "#     password=\"your-password\"\n",
    "# )\n",
    "\n",
    "show_all_rows(conn)\n",
    "\n",
    "# ✅ Close connection\n",
    "conn.close()\n"
   ]
  },
  {
   "cell_type": "code",
   "execution_count": 14,
   "metadata": {},
   "outputs": [
    {
     "name": "stdout",
     "output_type": "stream",
     "text": [
      "🚨 Dropping all tables...\n",
      "✅ Dropped table: total_revenue_per_branch\n",
      "🔥 All tables removed successfully!\n"
     ]
    }
   ],
   "source": [
    "import psycopg2\n",
    "\n",
    "def drop_all_tables(conn):\n",
    "    \"\"\"Drops all tables in the public schema of the PostgreSQL database.\"\"\"\n",
    "    cur = conn.cursor()\n",
    "\n",
    "    # ✅ Step 1: Get all table names\n",
    "    cur.execute(\"\"\"\n",
    "        SELECT table_name \n",
    "        FROM information_schema.tables \n",
    "        WHERE table_schema = 'public';\n",
    "    \"\"\")\n",
    "    tables = cur.fetchall()\n",
    "\n",
    "    if not tables:\n",
    "        print(\"❌ No tables found in the database.\")\n",
    "        return\n",
    "\n",
    "    print(\"🚨 Dropping all tables...\")\n",
    "\n",
    "    # ✅ Step 2: Disable foreign key constraints\n",
    "    cur.execute(\"SET session_replication_role = 'replica';\")  # Temporarily disable foreign key constraints\n",
    "\n",
    "    # ✅ Step 3: Drop each table\n",
    "    for table in tables:\n",
    "        table_name = table[0]\n",
    "        cur.execute(f\"DROP TABLE IF EXISTS {table_name} CASCADE;\")\n",
    "        print(f\"✅ Dropped table: {table_name}\")\n",
    "\n",
    "    # ✅ Step 4: Re-enable foreign key constraints\n",
    "    cur.execute(\"SET session_replication_role = 'origin';\")\n",
    "\n",
    "    # ✅ Step 5: Commit changes\n",
    "    conn.commit()\n",
    "    cur.close()\n",
    "    print(\"🔥 All tables removed successfully!\")\n",
    "\n",
    "# ✅ Usage Example\n",
    "# conn = psycopg2.connect(\n",
    "#     host=\"your-db-host\",\n",
    "#     database=\"your-db-name\",\n",
    "#     user=\"your-username\",\n",
    "#     password=\"your-password\"\n",
    "# )\n",
    "\n",
    "drop_all_tables(conn)\n",
    "\n",
    "# ✅ Close connection\n",
    "conn.close()\n"
   ]
  },
  {
   "cell_type": "code",
   "execution_count": 19,
   "metadata": {},
   "outputs": [
    {
     "ename": "EntityNotFoundException",
     "evalue": "An error occurred (EntityNotFoundException) when calling the GetJobRuns operation: Job not found.",
     "output_type": "error",
     "traceback": [
      "\u001b[1;31m---------------------------------------------------------------------------\u001b[0m",
      "\u001b[1;31mEntityNotFoundException\u001b[0m                   Traceback (most recent call last)",
      "Cell \u001b[1;32mIn[19], line 6\u001b[0m\n\u001b[0;32m      3\u001b[0m glue_client \u001b[38;5;241m=\u001b[39m boto3\u001b[38;5;241m.\u001b[39mclient(\u001b[38;5;124m\"\u001b[39m\u001b[38;5;124mglue\u001b[39m\u001b[38;5;124m\"\u001b[39m)\n\u001b[0;32m      5\u001b[0m \u001b[38;5;28;01mwhile\u001b[39;00m \u001b[38;5;28;01mTrue\u001b[39;00m:\n\u001b[1;32m----> 6\u001b[0m     response \u001b[38;5;241m=\u001b[39m \u001b[43mglue_client\u001b[49m\u001b[38;5;241;43m.\u001b[39;49m\u001b[43mget_job_runs\u001b[49m\u001b[43m(\u001b[49m\u001b[43mJobName\u001b[49m\u001b[38;5;241;43m=\u001b[39;49m\u001b[38;5;124;43m\"\u001b[39;49m\u001b[38;5;124;43mextract\u001b[39;49m\u001b[38;5;124;43m\"\u001b[39;49m\u001b[43m)\u001b[49m\n",
      "File \u001b[1;32m~\\AppData\\Local\\Packages\\PythonSoftwareFoundation.Python.3.10_qbz5n2kfra8p0\\LocalCache\\local-packages\\Python310\\site-packages\\botocore\\client.py:569\u001b[0m, in \u001b[0;36mClientCreator._create_api_method.<locals>._api_call\u001b[1;34m(self, *args, **kwargs)\u001b[0m\n\u001b[0;32m    565\u001b[0m     \u001b[38;5;28;01mraise\u001b[39;00m \u001b[38;5;167;01mTypeError\u001b[39;00m(\n\u001b[0;32m    566\u001b[0m         \u001b[38;5;124mf\u001b[39m\u001b[38;5;124m\"\u001b[39m\u001b[38;5;132;01m{\u001b[39;00mpy_operation_name\u001b[38;5;132;01m}\u001b[39;00m\u001b[38;5;124m() only accepts keyword arguments.\u001b[39m\u001b[38;5;124m\"\u001b[39m\n\u001b[0;32m    567\u001b[0m     )\n\u001b[0;32m    568\u001b[0m \u001b[38;5;66;03m# The \"self\" in this scope is referring to the BaseClient.\u001b[39;00m\n\u001b[1;32m--> 569\u001b[0m \u001b[38;5;28;01mreturn\u001b[39;00m \u001b[38;5;28;43mself\u001b[39;49m\u001b[38;5;241;43m.\u001b[39;49m\u001b[43m_make_api_call\u001b[49m\u001b[43m(\u001b[49m\u001b[43moperation_name\u001b[49m\u001b[43m,\u001b[49m\u001b[43m \u001b[49m\u001b[43mkwargs\u001b[49m\u001b[43m)\u001b[49m\n",
      "File \u001b[1;32m~\\AppData\\Local\\Packages\\PythonSoftwareFoundation.Python.3.10_qbz5n2kfra8p0\\LocalCache\\local-packages\\Python310\\site-packages\\botocore\\client.py:1023\u001b[0m, in \u001b[0;36mBaseClient._make_api_call\u001b[1;34m(self, operation_name, api_params)\u001b[0m\n\u001b[0;32m   1019\u001b[0m     error_code \u001b[38;5;241m=\u001b[39m error_info\u001b[38;5;241m.\u001b[39mget(\u001b[38;5;124m\"\u001b[39m\u001b[38;5;124mQueryErrorCode\u001b[39m\u001b[38;5;124m\"\u001b[39m) \u001b[38;5;129;01mor\u001b[39;00m error_info\u001b[38;5;241m.\u001b[39mget(\n\u001b[0;32m   1020\u001b[0m         \u001b[38;5;124m\"\u001b[39m\u001b[38;5;124mCode\u001b[39m\u001b[38;5;124m\"\u001b[39m\n\u001b[0;32m   1021\u001b[0m     )\n\u001b[0;32m   1022\u001b[0m     error_class \u001b[38;5;241m=\u001b[39m \u001b[38;5;28mself\u001b[39m\u001b[38;5;241m.\u001b[39mexceptions\u001b[38;5;241m.\u001b[39mfrom_code(error_code)\n\u001b[1;32m-> 1023\u001b[0m     \u001b[38;5;28;01mraise\u001b[39;00m error_class(parsed_response, operation_name)\n\u001b[0;32m   1024\u001b[0m \u001b[38;5;28;01melse\u001b[39;00m:\n\u001b[0;32m   1025\u001b[0m     \u001b[38;5;28;01mreturn\u001b[39;00m parsed_response\n",
      "\u001b[1;31mEntityNotFoundException\u001b[0m: An error occurred (EntityNotFoundException) when calling the GetJobRuns operation: Job not found."
     ]
    }
   ],
   "source": [
    "import boto3\n",
    "\n",
    "glue_client = boto3.client(\"glue\")\n",
    "\n",
    "while True:\n",
    "    response = glue_client.get_job_runs(JobName=\"extract\")"
   ]
  },
  {
   "cell_type": "code",
   "execution_count": 20,
   "metadata": {},
   "outputs": [],
   "source": [
    "import yaml"
   ]
  },
  {
   "cell_type": "code",
   "execution_count": 22,
   "metadata": {},
   "outputs": [
    {
     "data": {
      "text/plain": [
       "{'source_bucket': 'etl-input-9062',\n",
       " 'destination_bucket': 'etl-intermediate-9062',\n",
       " 'source_key': 'supermarket_sales - Sheet1.csv',\n",
       " 'destination_key': 'test.csv'}"
      ]
     },
     "execution_count": 22,
     "metadata": {},
     "output_type": "execute_result"
    }
   ],
   "source": [
    "yaml.safe_load(open(\"extract.yaml\",\"r\"))"
   ]
  },
  {
   "cell_type": "code",
   "execution_count": null,
   "metadata": {},
   "outputs": [],
   "source": []
  }
 ],
 "metadata": {
  "kernelspec": {
   "display_name": "Python 3",
   "language": "python",
   "name": "python3"
  },
  "language_info": {
   "codemirror_mode": {
    "name": "ipython",
    "version": 3
   },
   "file_extension": ".py",
   "mimetype": "text/x-python",
   "name": "python",
   "nbconvert_exporter": "python",
   "pygments_lexer": "ipython3",
   "version": "3.10.11"
  }
 },
 "nbformat": 4,
 "nbformat_minor": 2
}
